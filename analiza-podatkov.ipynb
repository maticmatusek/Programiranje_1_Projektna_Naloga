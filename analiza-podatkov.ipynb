{
 "cells": [
  {
   "cell_type": "code",
   "execution_count": 13,
   "metadata": {},
   "outputs": [],
   "source": [
    "import pandas as pd\n",
    "import matplotlib.pyplot as plt\n",
    "import numpy as np\n",
    "pd.set_option(\"display.max_rows\",20)\n",
    "%matplotlib inline\n",
    "kosarkarji_misc = pd.read_csv(\"kosarkarji-misc.csv\")\n",
    "kosarkarji_averages = pd.read_csv(\"kosarkarji-averages.csv\")\n",
    "kosarkarji_totals =pd.read_csv(\"kosarkarji-totals.csv\")"
   ]
  }
 ],
 "metadata": {
  "kernelspec": {
   "display_name": "Python 3.9.1 64-bit",
   "language": "python",
   "name": "python3"
  },
  "language_info": {
   "codemirror_mode": {
    "name": "ipython",
    "version": 3
   },
   "file_extension": ".py",
   "mimetype": "text/x-python",
   "name": "python",
   "nbconvert_exporter": "python",
   "pygments_lexer": "ipython3",
   "version": "3.9.1"
  },
  "orig_nbformat": 4,
  "vscode": {
   "interpreter": {
    "hash": "71148378586f7a0d44beeaeaf0bcb46af36a44fac83a752814a4f913195ae126"
   }
  }
 },
 "nbformat": 4,
 "nbformat_minor": 2
}
